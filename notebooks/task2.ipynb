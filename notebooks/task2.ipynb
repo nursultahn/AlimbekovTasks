{
 "cells": [
  {
   "cell_type": "markdown",
   "metadata": {},
   "source": [
    "#task\n",
    "# CPO доволен тем как вы справились с RFM анализом. Ваша новая задача сделать когортный анализ.\n",
    "\n",
    "Что такое когортный анализ?\n",
    "Когортный анализ заключается в исследовании характеристик когорт/винтажей/поколений, объединенных по общим временным признакам.\n",
    "Когорта/винтаж/поколение — это группа, сформированная особым образом по временному признаку: например, месяцу регистрации, месяцу первой транзакции или первого посещения сайта. Когорты очень похожи на сегменты с тем отличием, что когорта объединяет группы определенного промежутка времени, в то время как сегмент может быть основан на любых других характеристиках.\n",
    "\n",
    "Почему это ценно?\n",
    "Когортный анализ может быть полезен, когда речь заходит о понимании здоровья вашего бизнеса и «липкости» - лояльности ваших клиентов. «Липкость» имеет решающее значение, так как гораздо дешевле и проще удерживать клиента, чем приобретать новых. Кроме того, ваш продукт развивается с течением времени. Новые функции добавляются и удаляются, измененяется дизайн и т. д. Наблюдение отдельных групп с течением времени является отправной точкой для понимания того, как эти изменения влияют на поведение пользователя/группы.\n",
    "\n",
    "Для этой задачи так же используйте публичный датасет: https://www.kaggle.com/olistbr/brazilian-ecommerce Файлы olist_orders_dataset.csv и olist_order_payments_dataset.csv. Соединить их можно по order_id.\n",
    "\n",
    "Ответьте на два вопроса:\n",
    "- Сколько в среднем заказов и на какую сумму делают все когорты за первый год\n",
    "- Сравните две любые когорты по прибыле и количеству заказов\n",
    "\n",
    "Подсказки по коду:\n",
    "Для когорт будем использовать order_delivered_carrier_date\n",
    "first_orders = order_payment.groupby('customer_id')['order_delivered_carrier_date'].agg({'first_order': 'min'})\n",
    "\n",
    "Полезный материал для изучения:\n",
    "- https://gopractice.ru/cohort_analysis/\n",
    "- https://habr.com/ru/company/io/blog/262025/\n",
    "- https://www.owox.ru/blog/use-cases/cohort-analysis/"
   ]
  },
  {
   "cell_type": "code",
   "execution_count": 2,
   "metadata": {},
   "outputs": [
    {
     "name": "stderr",
     "output_type": "stream",
     "text": [
      "C:\\Users\\Nursultan\\Anaconda3\\lib\\site-packages\\pandas\\compat\\_optional.py:138: UserWarning: Pandas requires version '2.7.0' or newer of 'numexpr' (version '2.6.9' currently installed).\n",
      "  warnings.warn(msg, UserWarning)\n"
     ]
    }
   ],
   "source": [
    "import pandas as pd"
   ]
  },
  {
   "cell_type": "code",
   "execution_count": 3,
   "metadata": {},
   "outputs": [],
   "source": [
    "orders = pd.read_csv('../data/task1/olist_orders_dataset.csv')\n",
    "payments = pd.read_csv('../data/task1/olist_order_payments_dataset.csv')"
   ]
  },
  {
   "cell_type": "code",
   "execution_count": 5,
   "metadata": {},
   "outputs": [],
   "source": [
    "orders['order_delivered_carrier_date'] = pd.to_datetime(orders['order_delivered_carrier_date'])\n"
   ]
  },
  {
   "cell_type": "code",
   "execution_count": 6,
   "metadata": {},
   "outputs": [],
   "source": [
    "df = pd.merge(orders, payments, on='order_id')\n"
   ]
  },
  {
   "cell_type": "code",
   "execution_count": 7,
   "metadata": {},
   "outputs": [],
   "source": [
    "first_orders = df.groupby('customer_id')['order_delivered_carrier_date'].min().reset_index()"
   ]
  },
  {
   "cell_type": "code",
   "execution_count": 9,
   "metadata": {},
   "outputs": [],
   "source": [
    "first_orders.columns = ['customer_id', 'first_order']"
   ]
  },
  {
   "cell_type": "code",
   "execution_count": 10,
   "metadata": {},
   "outputs": [],
   "source": [
    "df = pd.merge(df, first_orders, on='customer_id')"
   ]
  },
  {
   "cell_type": "code",
   "execution_count": 15,
   "metadata": {},
   "outputs": [
    {
     "data": {
      "text/html": [
       "<div>\n",
       "<style scoped>\n",
       "    .dataframe tbody tr th:only-of-type {\n",
       "        vertical-align: middle;\n",
       "    }\n",
       "\n",
       "    .dataframe tbody tr th {\n",
       "        vertical-align: top;\n",
       "    }\n",
       "\n",
       "    .dataframe thead th {\n",
       "        text-align: right;\n",
       "    }\n",
       "</style>\n",
       "<table border=\"1\" class=\"dataframe\">\n",
       "  <thead>\n",
       "    <tr style=\"text-align: right;\">\n",
       "      <th></th>\n",
       "      <th>order_id</th>\n",
       "      <th>customer_id</th>\n",
       "      <th>order_status</th>\n",
       "      <th>order_purchase_timestamp</th>\n",
       "      <th>order_approved_at</th>\n",
       "      <th>order_delivered_carrier_date</th>\n",
       "      <th>order_delivered_customer_date</th>\n",
       "      <th>order_estimated_delivery_date</th>\n",
       "      <th>payment_sequential</th>\n",
       "      <th>payment_type</th>\n",
       "      <th>payment_installments</th>\n",
       "      <th>payment_value</th>\n",
       "      <th>first_order</th>\n",
       "      <th>order_month</th>\n",
       "      <th>cohort</th>\n",
       "    </tr>\n",
       "  </thead>\n",
       "  <tbody>\n",
       "    <tr>\n",
       "      <th>0</th>\n",
       "      <td>e481f51cbdc54678b7cc49136f2d6af7</td>\n",
       "      <td>9ef432eb6251297304e76186b10a928d</td>\n",
       "      <td>delivered</td>\n",
       "      <td>2017-10-02 10:56:33</td>\n",
       "      <td>2017-10-02 11:07:15</td>\n",
       "      <td>2017-10-04 19:55:00</td>\n",
       "      <td>2017-10-10 21:25:13</td>\n",
       "      <td>2017-10-18 00:00:00</td>\n",
       "      <td>1</td>\n",
       "      <td>credit_card</td>\n",
       "      <td>1</td>\n",
       "      <td>18.12</td>\n",
       "      <td>2017-10-04 19:55:00</td>\n",
       "      <td>2017-10</td>\n",
       "      <td>2017-10</td>\n",
       "    </tr>\n",
       "    <tr>\n",
       "      <th>1</th>\n",
       "      <td>e481f51cbdc54678b7cc49136f2d6af7</td>\n",
       "      <td>9ef432eb6251297304e76186b10a928d</td>\n",
       "      <td>delivered</td>\n",
       "      <td>2017-10-02 10:56:33</td>\n",
       "      <td>2017-10-02 11:07:15</td>\n",
       "      <td>2017-10-04 19:55:00</td>\n",
       "      <td>2017-10-10 21:25:13</td>\n",
       "      <td>2017-10-18 00:00:00</td>\n",
       "      <td>3</td>\n",
       "      <td>voucher</td>\n",
       "      <td>1</td>\n",
       "      <td>2.00</td>\n",
       "      <td>2017-10-04 19:55:00</td>\n",
       "      <td>2017-10</td>\n",
       "      <td>2017-10</td>\n",
       "    </tr>\n",
       "    <tr>\n",
       "      <th>2</th>\n",
       "      <td>e481f51cbdc54678b7cc49136f2d6af7</td>\n",
       "      <td>9ef432eb6251297304e76186b10a928d</td>\n",
       "      <td>delivered</td>\n",
       "      <td>2017-10-02 10:56:33</td>\n",
       "      <td>2017-10-02 11:07:15</td>\n",
       "      <td>2017-10-04 19:55:00</td>\n",
       "      <td>2017-10-10 21:25:13</td>\n",
       "      <td>2017-10-18 00:00:00</td>\n",
       "      <td>2</td>\n",
       "      <td>voucher</td>\n",
       "      <td>1</td>\n",
       "      <td>18.59</td>\n",
       "      <td>2017-10-04 19:55:00</td>\n",
       "      <td>2017-10</td>\n",
       "      <td>2017-10</td>\n",
       "    </tr>\n",
       "    <tr>\n",
       "      <th>3</th>\n",
       "      <td>53cdb2fc8bc7dce0b6741e2150273451</td>\n",
       "      <td>b0830fb4747a6c6d20dea0b8c802d7ef</td>\n",
       "      <td>delivered</td>\n",
       "      <td>2018-07-24 20:41:37</td>\n",
       "      <td>2018-07-26 03:24:27</td>\n",
       "      <td>2018-07-26 14:31:00</td>\n",
       "      <td>2018-08-07 15:27:45</td>\n",
       "      <td>2018-08-13 00:00:00</td>\n",
       "      <td>1</td>\n",
       "      <td>boleto</td>\n",
       "      <td>1</td>\n",
       "      <td>141.46</td>\n",
       "      <td>2018-07-26 14:31:00</td>\n",
       "      <td>2018-07</td>\n",
       "      <td>2018-07</td>\n",
       "    </tr>\n",
       "    <tr>\n",
       "      <th>4</th>\n",
       "      <td>47770eb9100c2d0c44946d9cf07ec65d</td>\n",
       "      <td>41ce2a54c0b03bf3443c3d931a367089</td>\n",
       "      <td>delivered</td>\n",
       "      <td>2018-08-08 08:38:49</td>\n",
       "      <td>2018-08-08 08:55:23</td>\n",
       "      <td>2018-08-08 13:50:00</td>\n",
       "      <td>2018-08-17 18:06:29</td>\n",
       "      <td>2018-09-04 00:00:00</td>\n",
       "      <td>1</td>\n",
       "      <td>credit_card</td>\n",
       "      <td>3</td>\n",
       "      <td>179.12</td>\n",
       "      <td>2018-08-08 13:50:00</td>\n",
       "      <td>2018-08</td>\n",
       "      <td>2018-08</td>\n",
       "    </tr>\n",
       "  </tbody>\n",
       "</table>\n",
       "</div>"
      ],
      "text/plain": [
       "                           order_id                       customer_id  \\\n",
       "0  e481f51cbdc54678b7cc49136f2d6af7  9ef432eb6251297304e76186b10a928d   \n",
       "1  e481f51cbdc54678b7cc49136f2d6af7  9ef432eb6251297304e76186b10a928d   \n",
       "2  e481f51cbdc54678b7cc49136f2d6af7  9ef432eb6251297304e76186b10a928d   \n",
       "3  53cdb2fc8bc7dce0b6741e2150273451  b0830fb4747a6c6d20dea0b8c802d7ef   \n",
       "4  47770eb9100c2d0c44946d9cf07ec65d  41ce2a54c0b03bf3443c3d931a367089   \n",
       "\n",
       "  order_status order_purchase_timestamp    order_approved_at  \\\n",
       "0    delivered      2017-10-02 10:56:33  2017-10-02 11:07:15   \n",
       "1    delivered      2017-10-02 10:56:33  2017-10-02 11:07:15   \n",
       "2    delivered      2017-10-02 10:56:33  2017-10-02 11:07:15   \n",
       "3    delivered      2018-07-24 20:41:37  2018-07-26 03:24:27   \n",
       "4    delivered      2018-08-08 08:38:49  2018-08-08 08:55:23   \n",
       "\n",
       "  order_delivered_carrier_date order_delivered_customer_date  \\\n",
       "0          2017-10-04 19:55:00           2017-10-10 21:25:13   \n",
       "1          2017-10-04 19:55:00           2017-10-10 21:25:13   \n",
       "2          2017-10-04 19:55:00           2017-10-10 21:25:13   \n",
       "3          2018-07-26 14:31:00           2018-08-07 15:27:45   \n",
       "4          2018-08-08 13:50:00           2018-08-17 18:06:29   \n",
       "\n",
       "  order_estimated_delivery_date  payment_sequential payment_type  \\\n",
       "0           2017-10-18 00:00:00                   1  credit_card   \n",
       "1           2017-10-18 00:00:00                   3      voucher   \n",
       "2           2017-10-18 00:00:00                   2      voucher   \n",
       "3           2018-08-13 00:00:00                   1       boleto   \n",
       "4           2018-09-04 00:00:00                   1  credit_card   \n",
       "\n",
       "   payment_installments  payment_value         first_order order_month  \\\n",
       "0                     1          18.12 2017-10-04 19:55:00     2017-10   \n",
       "1                     1           2.00 2017-10-04 19:55:00     2017-10   \n",
       "2                     1          18.59 2017-10-04 19:55:00     2017-10   \n",
       "3                     1         141.46 2018-07-26 14:31:00     2018-07   \n",
       "4                     3         179.12 2018-08-08 13:50:00     2018-08   \n",
       "\n",
       "    cohort  \n",
       "0  2017-10  \n",
       "1  2017-10  \n",
       "2  2017-10  \n",
       "3  2018-07  \n",
       "4  2018-08  "
      ]
     },
     "execution_count": 15,
     "metadata": {},
     "output_type": "execute_result"
    }
   ],
   "source": [
    "df.head()"
   ]
  },
  {
   "cell_type": "code",
   "execution_count": 11,
   "metadata": {},
   "outputs": [],
   "source": [
    "# Получим когорту для каждого заказа (месяц и год первого заказа клиента)\n",
    "df['order_month'] = df['order_delivered_carrier_date'].dt.to_period('M')\n",
    "df['cohort'] = df['first_order'].dt.to_period('M')"
   ]
  },
  {
   "cell_type": "markdown",
   "metadata": {},
   "source": [
    "Теперь, когда у нас есть когорта для каждого заказа, мы можем агрегировать данные по когортам и месяцам."
   ]
  },
  {
   "cell_type": "code",
   "execution_count": 12,
   "metadata": {},
   "outputs": [],
   "source": [
    "# Считаем количество заказов и общую сумму по месяцам и когортам\n",
    "cohort_data = df.groupby(['cohort', 'order_month']).agg({'payment_value': ['sum', 'count']}).reset_index()"
   ]
  },
  {
   "cell_type": "code",
   "execution_count": 13,
   "metadata": {},
   "outputs": [
    {
     "name": "stdout",
     "output_type": "stream",
     "text": [
      "Среднее количество заказов на когорту за первый год: 4249.916666666667\n",
      "Средняя выручка на когорту за первый год: 650339.80875\n"
     ]
    }
   ],
   "source": [
    "# Ограничиваем данные первым годом деятельности каждой когорты\n",
    "one_year_cohorts = cohort_data[cohort_data['order_month'] <= (cohort_data['cohort'] + 12)]\n",
    "\n",
    "# Считаем среднее количество заказов и среднюю сумму заказов за первый год\n",
    "average_orders = one_year_cohorts[('payment_value', 'count')].mean()\n",
    "average_revenue = one_year_cohorts[('payment_value', 'sum')].mean()\n",
    "\n",
    "print('Среднее количество заказов на когорту за первый год:', average_orders)\n",
    "print('Средняя выручка на когорту за первый год:', average_revenue)"
   ]
  },
  {
   "cell_type": "code",
   "execution_count": 14,
   "metadata": {},
   "outputs": [
    {
     "name": "stdout",
     "output_type": "stream",
     "text": [
      "Когорта 1 - Заказы: 656 Выручка: 97060.76\n",
      "Когорта 2 - Заказы: 1594 Выручка: 258761.05\n"
     ]
    }
   ],
   "source": [
    "# Получаем данные по первой и второй когорте\n",
    "cohort1 = cohort_data[cohort_data['cohort'] == '2017-01']\n",
    "cohort2 = cohort_data[cohort_data['cohort'] == '2017-02']\n",
    "\n",
    "# Считаем общее количество заказов и общую выручку для каждой когорты\n",
    "total_orders_cohort1 = cohort1[('payment_value', 'count')].sum()\n",
    "total_revenue_cohort1 = cohort1[('payment_value', 'sum')].sum()\n",
    "\n",
    "total_orders_cohort2 = cohort2[('payment_value', 'count')].sum()\n",
    "total_revenue_cohort2 = cohort2[('payment_value', 'sum')].sum()\n",
    "\n",
    "print('Когорта 1 - Заказы:', total_orders_cohort1, 'Выручка:', total_revenue_cohort1)\n",
    "print('Когорта 2 - Заказы:', total_orders_cohort2, 'Выручка:', total_revenue_cohort2)"
   ]
  },
  {
   "cell_type": "code",
   "execution_count": null,
   "metadata": {},
   "outputs": [],
   "source": []
  }
 ],
 "metadata": {
  "kernelspec": {
   "display_name": "Python 3",
   "language": "python",
   "name": "python3"
  },
  "language_info": {
   "codemirror_mode": {
    "name": "ipython",
    "version": 3
   },
   "file_extension": ".py",
   "mimetype": "text/x-python",
   "name": "python",
   "nbconvert_exporter": "python",
   "pygments_lexer": "ipython3",
   "version": "3.7.3"
  }
 },
 "nbformat": 4,
 "nbformat_minor": 2
}