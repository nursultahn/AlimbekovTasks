{
 "cells": [
  {
   "cell_type": "markdown",
   "metadata": {
    "collapsed": true,
    "pycharm": {
     "name": "#%% md\n"
    }
   },
   "source": [
    "# Добро пожаловать на работу в Olist Store!\n",
    "\n",
    "**Olist Store** является крупнейшим универмагом на рынках Бразилии. Поздравляем, вы приняты на работу на должность **Data Scientist**. Поверьте, это лучшее, что могло случиться с вашей карьерой.\n",
    "\n",
    "Ваш руководитель – наш **Chief Product Officer**. У него большой опыт, и именно он будет давать вам задания. Надеемся, вы у него многому научитесь.\n",
    "\n",
    "## Ваша первая задача\n",
    "\n",
    "Ваша первая задача - выполнить **RFM-анализ**. Этот анализ делит пользователей на сегменты в зависимости от давности (Recency), частоты (Frequency) и общей суммы платежей (Monetary). Давайте подробнее разберем эти показатели:\n",
    "\n",
    "- **Recency** - разница между текущей датой и датой последнего платежа\n",
    "- **Frequency** - количество транзакций\n",
    "- **Monetary** - сумма покупок\n",
    "\n",
    "Эти три показателя нужно рассчитать отдельно для каждого покупателя. После этого поставить оценки от 1 до 3 или от 1 до 5. Чем шире диапазон, тем более узкие сегменты мы получим.\n",
    "\n",
    "Рекомендуем выставить баллы с использованием **квантилей**. Сортируйте данные по одному из критериев и делите на равные группы.\n",
    "\n",
    "Для выполнения этой задачи используйте публичный датасет, доступный по ссылке: [Brazilian E-commerce Public Dataset by Olist](https://www.kaggle.com/olistbr/brazilian-ecommerce). Используйте файлы `olist_orders_dataset.csv` и `olist_order_payments_dataset.csv`. Соединить их можно по `order_id`.\n",
    "\n",
    "### Подсказки по коду:\n",
    "\n",
    "```python\n",
    "# Вместо текущей даты будем использовать max+1\n",
    "last_date = order_payment['order_delivered_carrier_date'].max() + timedelta(days=1)\n",
    "\n",
    "# Разбить на квантили\n",
    "quantiles = df.quantile(q=[0.20, 0.40, 0.60, 0.80])\n",
    "\n",
    "Не забудьте написать выводы по результатам выполненной работы.\n",
    "\n",
    "Полезные материалы для изучения:\n",
    "Главное об RFM-анализе: как сегментировать клиентов, чтобы они покупали больше и чаще\n",
    "RFM-анализ\n"
   ]
  },
  {
   "cell_type": "code",
   "execution_count": 1,
   "metadata": {
    "pycharm": {
     "name": "#%%\n"
    }
   },
   "outputs": [
    {
     "name": "stderr",
     "output_type": "stream",
     "text": [
      "C:\\Users\\Nursultan\\Anaconda3\\lib\\site-packages\\pandas\\compat\\_optional.py:138: UserWarning: Pandas requires version '2.7.0' or newer of 'numexpr' (version '2.6.9' currently installed).\n",
      "  warnings.warn(msg, UserWarning)\n"
     ]
    }
   ],
   "source": [
    "import pandas as pd\n",
    "from datetime import timedelta"
   ]
  },
  {
   "cell_type": "code",
   "execution_count": 2,
   "metadata": {},
   "outputs": [],
   "source": [
    "orders = pd.read_csv('../data/task1/olist_orders_dataset.csv')\n",
    "payments = pd.read_csv('../data/task1/olist_order_payments_dataset.csv')"
   ]
  },
  {
   "cell_type": "code",
   "execution_count": 3,
   "metadata": {},
   "outputs": [],
   "source": [
    "df=pd.merge(orders,payments, on = 'order_id')"
   ]
  },
  {
   "cell_type": "code",
   "execution_count": 4,
   "metadata": {},
   "outputs": [
    {
     "data": {
      "text/html": [
       "<div>\n",
       "<style scoped>\n",
       "    .dataframe tbody tr th:only-of-type {\n",
       "        vertical-align: middle;\n",
       "    }\n",
       "\n",
       "    .dataframe tbody tr th {\n",
       "        vertical-align: top;\n",
       "    }\n",
       "\n",
       "    .dataframe thead th {\n",
       "        text-align: right;\n",
       "    }\n",
       "</style>\n",
       "<table border=\"1\" class=\"dataframe\">\n",
       "  <thead>\n",
       "    <tr style=\"text-align: right;\">\n",
       "      <th></th>\n",
       "      <th>order_id</th>\n",
       "      <th>customer_id</th>\n",
       "      <th>order_status</th>\n",
       "      <th>order_purchase_timestamp</th>\n",
       "      <th>order_approved_at</th>\n",
       "      <th>order_delivered_carrier_date</th>\n",
       "      <th>order_delivered_customer_date</th>\n",
       "      <th>order_estimated_delivery_date</th>\n",
       "      <th>payment_sequential</th>\n",
       "      <th>payment_type</th>\n",
       "      <th>payment_installments</th>\n",
       "      <th>payment_value</th>\n",
       "    </tr>\n",
       "  </thead>\n",
       "  <tbody>\n",
       "    <tr>\n",
       "      <th>0</th>\n",
       "      <td>e481f51cbdc54678b7cc49136f2d6af7</td>\n",
       "      <td>9ef432eb6251297304e76186b10a928d</td>\n",
       "      <td>delivered</td>\n",
       "      <td>2017-10-02 10:56:33</td>\n",
       "      <td>2017-10-02 11:07:15</td>\n",
       "      <td>2017-10-04 19:55:00</td>\n",
       "      <td>2017-10-10 21:25:13</td>\n",
       "      <td>2017-10-18 00:00:00</td>\n",
       "      <td>1</td>\n",
       "      <td>credit_card</td>\n",
       "      <td>1</td>\n",
       "      <td>18.12</td>\n",
       "    </tr>\n",
       "    <tr>\n",
       "      <th>1</th>\n",
       "      <td>e481f51cbdc54678b7cc49136f2d6af7</td>\n",
       "      <td>9ef432eb6251297304e76186b10a928d</td>\n",
       "      <td>delivered</td>\n",
       "      <td>2017-10-02 10:56:33</td>\n",
       "      <td>2017-10-02 11:07:15</td>\n",
       "      <td>2017-10-04 19:55:00</td>\n",
       "      <td>2017-10-10 21:25:13</td>\n",
       "      <td>2017-10-18 00:00:00</td>\n",
       "      <td>3</td>\n",
       "      <td>voucher</td>\n",
       "      <td>1</td>\n",
       "      <td>2.00</td>\n",
       "    </tr>\n",
       "    <tr>\n",
       "      <th>2</th>\n",
       "      <td>e481f51cbdc54678b7cc49136f2d6af7</td>\n",
       "      <td>9ef432eb6251297304e76186b10a928d</td>\n",
       "      <td>delivered</td>\n",
       "      <td>2017-10-02 10:56:33</td>\n",
       "      <td>2017-10-02 11:07:15</td>\n",
       "      <td>2017-10-04 19:55:00</td>\n",
       "      <td>2017-10-10 21:25:13</td>\n",
       "      <td>2017-10-18 00:00:00</td>\n",
       "      <td>2</td>\n",
       "      <td>voucher</td>\n",
       "      <td>1</td>\n",
       "      <td>18.59</td>\n",
       "    </tr>\n",
       "    <tr>\n",
       "      <th>3</th>\n",
       "      <td>53cdb2fc8bc7dce0b6741e2150273451</td>\n",
       "      <td>b0830fb4747a6c6d20dea0b8c802d7ef</td>\n",
       "      <td>delivered</td>\n",
       "      <td>2018-07-24 20:41:37</td>\n",
       "      <td>2018-07-26 03:24:27</td>\n",
       "      <td>2018-07-26 14:31:00</td>\n",
       "      <td>2018-08-07 15:27:45</td>\n",
       "      <td>2018-08-13 00:00:00</td>\n",
       "      <td>1</td>\n",
       "      <td>boleto</td>\n",
       "      <td>1</td>\n",
       "      <td>141.46</td>\n",
       "    </tr>\n",
       "    <tr>\n",
       "      <th>4</th>\n",
       "      <td>47770eb9100c2d0c44946d9cf07ec65d</td>\n",
       "      <td>41ce2a54c0b03bf3443c3d931a367089</td>\n",
       "      <td>delivered</td>\n",
       "      <td>2018-08-08 08:38:49</td>\n",
       "      <td>2018-08-08 08:55:23</td>\n",
       "      <td>2018-08-08 13:50:00</td>\n",
       "      <td>2018-08-17 18:06:29</td>\n",
       "      <td>2018-09-04 00:00:00</td>\n",
       "      <td>1</td>\n",
       "      <td>credit_card</td>\n",
       "      <td>3</td>\n",
       "      <td>179.12</td>\n",
       "    </tr>\n",
       "  </tbody>\n",
       "</table>\n",
       "</div>"
      ],
      "text/plain": [
       "                           order_id                       customer_id  \\\n",
       "0  e481f51cbdc54678b7cc49136f2d6af7  9ef432eb6251297304e76186b10a928d   \n",
       "1  e481f51cbdc54678b7cc49136f2d6af7  9ef432eb6251297304e76186b10a928d   \n",
       "2  e481f51cbdc54678b7cc49136f2d6af7  9ef432eb6251297304e76186b10a928d   \n",
       "3  53cdb2fc8bc7dce0b6741e2150273451  b0830fb4747a6c6d20dea0b8c802d7ef   \n",
       "4  47770eb9100c2d0c44946d9cf07ec65d  41ce2a54c0b03bf3443c3d931a367089   \n",
       "\n",
       "  order_status order_purchase_timestamp    order_approved_at  \\\n",
       "0    delivered      2017-10-02 10:56:33  2017-10-02 11:07:15   \n",
       "1    delivered      2017-10-02 10:56:33  2017-10-02 11:07:15   \n",
       "2    delivered      2017-10-02 10:56:33  2017-10-02 11:07:15   \n",
       "3    delivered      2018-07-24 20:41:37  2018-07-26 03:24:27   \n",
       "4    delivered      2018-08-08 08:38:49  2018-08-08 08:55:23   \n",
       "\n",
       "  order_delivered_carrier_date order_delivered_customer_date  \\\n",
       "0          2017-10-04 19:55:00           2017-10-10 21:25:13   \n",
       "1          2017-10-04 19:55:00           2017-10-10 21:25:13   \n",
       "2          2017-10-04 19:55:00           2017-10-10 21:25:13   \n",
       "3          2018-07-26 14:31:00           2018-08-07 15:27:45   \n",
       "4          2018-08-08 13:50:00           2018-08-17 18:06:29   \n",
       "\n",
       "  order_estimated_delivery_date  payment_sequential payment_type  \\\n",
       "0           2017-10-18 00:00:00                   1  credit_card   \n",
       "1           2017-10-18 00:00:00                   3      voucher   \n",
       "2           2017-10-18 00:00:00                   2      voucher   \n",
       "3           2018-08-13 00:00:00                   1       boleto   \n",
       "4           2018-09-04 00:00:00                   1  credit_card   \n",
       "\n",
       "   payment_installments  payment_value  \n",
       "0                     1          18.12  \n",
       "1                     1           2.00  \n",
       "2                     1          18.59  \n",
       "3                     1         141.46  \n",
       "4                     3         179.12  "
      ]
     },
     "execution_count": 4,
     "metadata": {},
     "output_type": "execute_result"
    }
   ],
   "source": [
    "df.head()"
   ]
  },
  {
   "cell_type": "code",
   "execution_count": 5,
   "metadata": {},
   "outputs": [
    {
     "name": "stdout",
     "output_type": "stream",
     "text": [
      "<class 'pandas.core.frame.DataFrame'>\n",
      "Int64Index: 103886 entries, 0 to 103885\n",
      "Data columns (total 12 columns):\n",
      " #   Column                         Non-Null Count   Dtype  \n",
      "---  ------                         --------------   -----  \n",
      " 0   order_id                       103886 non-null  object \n",
      " 1   customer_id                    103886 non-null  object \n",
      " 2   order_status                   103886 non-null  object \n",
      " 3   order_purchase_timestamp       103886 non-null  object \n",
      " 4   order_approved_at              103711 non-null  object \n",
      " 5   order_delivered_carrier_date   101998 non-null  object \n",
      " 6   order_delivered_customer_date  100754 non-null  object \n",
      " 7   order_estimated_delivery_date  103886 non-null  object \n",
      " 8   payment_sequential             103886 non-null  int64  \n",
      " 9   payment_type                   103886 non-null  object \n",
      " 10  payment_installments           103886 non-null  int64  \n",
      " 11  payment_value                  103886 non-null  float64\n",
      "dtypes: float64(1), int64(2), object(9)\n",
      "memory usage: 10.3+ MB\n"
     ]
    }
   ],
   "source": [
    "df.info()"
   ]
  },
  {
   "cell_type": "code",
   "execution_count": 6,
   "metadata": {},
   "outputs": [
    {
     "data": {
      "text/html": [
       "<div>\n",
       "<style scoped>\n",
       "    .dataframe tbody tr th:only-of-type {\n",
       "        vertical-align: middle;\n",
       "    }\n",
       "\n",
       "    .dataframe tbody tr th {\n",
       "        vertical-align: top;\n",
       "    }\n",
       "\n",
       "    .dataframe thead th {\n",
       "        text-align: right;\n",
       "    }\n",
       "</style>\n",
       "<table border=\"1\" class=\"dataframe\">\n",
       "  <thead>\n",
       "    <tr style=\"text-align: right;\">\n",
       "      <th></th>\n",
       "      <th>payment_sequential</th>\n",
       "      <th>payment_installments</th>\n",
       "      <th>payment_value</th>\n",
       "    </tr>\n",
       "  </thead>\n",
       "  <tbody>\n",
       "    <tr>\n",
       "      <th>count</th>\n",
       "      <td>103886.000000</td>\n",
       "      <td>103886.000000</td>\n",
       "      <td>103886.000000</td>\n",
       "    </tr>\n",
       "    <tr>\n",
       "      <th>mean</th>\n",
       "      <td>1.092679</td>\n",
       "      <td>2.853349</td>\n",
       "      <td>154.100380</td>\n",
       "    </tr>\n",
       "    <tr>\n",
       "      <th>std</th>\n",
       "      <td>0.706584</td>\n",
       "      <td>2.687051</td>\n",
       "      <td>217.494064</td>\n",
       "    </tr>\n",
       "    <tr>\n",
       "      <th>min</th>\n",
       "      <td>1.000000</td>\n",
       "      <td>0.000000</td>\n",
       "      <td>0.000000</td>\n",
       "    </tr>\n",
       "    <tr>\n",
       "      <th>25%</th>\n",
       "      <td>1.000000</td>\n",
       "      <td>1.000000</td>\n",
       "      <td>56.790000</td>\n",
       "    </tr>\n",
       "    <tr>\n",
       "      <th>50%</th>\n",
       "      <td>1.000000</td>\n",
       "      <td>1.000000</td>\n",
       "      <td>100.000000</td>\n",
       "    </tr>\n",
       "    <tr>\n",
       "      <th>75%</th>\n",
       "      <td>1.000000</td>\n",
       "      <td>4.000000</td>\n",
       "      <td>171.837500</td>\n",
       "    </tr>\n",
       "    <tr>\n",
       "      <th>max</th>\n",
       "      <td>29.000000</td>\n",
       "      <td>24.000000</td>\n",
       "      <td>13664.080000</td>\n",
       "    </tr>\n",
       "  </tbody>\n",
       "</table>\n",
       "</div>"
      ],
      "text/plain": [
       "       payment_sequential  payment_installments  payment_value\n",
       "count       103886.000000         103886.000000  103886.000000\n",
       "mean             1.092679              2.853349     154.100380\n",
       "std              0.706584              2.687051     217.494064\n",
       "min              1.000000              0.000000       0.000000\n",
       "25%              1.000000              1.000000      56.790000\n",
       "50%              1.000000              1.000000     100.000000\n",
       "75%              1.000000              4.000000     171.837500\n",
       "max             29.000000             24.000000   13664.080000"
      ]
     },
     "execution_count": 6,
     "metadata": {},
     "output_type": "execute_result"
    }
   ],
   "source": [
    "df.describe()"
   ]
  },
  {
   "cell_type": "code",
   "execution_count": 7,
   "metadata": {},
   "outputs": [],
   "source": [
    "df['order_delivered_carrier_date'] = pd.to_datetime(df['order_delivered_carrier_date'])"
   ]
  },
  {
   "cell_type": "code",
   "execution_count": 8,
   "metadata": {},
   "outputs": [],
   "source": [
    "last_date = df['order_delivered_carrier_date'].max() + timedelta(days=1)"
   ]
  },
  {
   "cell_type": "code",
   "execution_count": 9,
   "metadata": {},
   "outputs": [],
   "source": [
    "rfm = df.groupby('customer_id').agg({\n",
    "    'order_delivered_carrier_date': lambda x: (last_date - x.max()).days,\n",
    "    'order_id': 'count',\n",
    "    'payment_value': 'sum'\n",
    "})\n",
    "rfm.columns = ['Recency', 'Frequency', 'Monetary']"
   ]
  },
  {
   "cell_type": "code",
   "execution_count": 10,
   "metadata": {},
   "outputs": [
    {
     "data": {
      "text/html": [
       "<div>\n",
       "<style scoped>\n",
       "    .dataframe tbody tr th:only-of-type {\n",
       "        vertical-align: middle;\n",
       "    }\n",
       "\n",
       "    .dataframe tbody tr th {\n",
       "        vertical-align: top;\n",
       "    }\n",
       "\n",
       "    .dataframe thead th {\n",
       "        text-align: right;\n",
       "    }\n",
       "</style>\n",
       "<table border=\"1\" class=\"dataframe\">\n",
       "  <thead>\n",
       "    <tr style=\"text-align: right;\">\n",
       "      <th></th>\n",
       "      <th>Recency</th>\n",
       "      <th>Frequency</th>\n",
       "      <th>Monetary</th>\n",
       "    </tr>\n",
       "    <tr>\n",
       "      <th>customer_id</th>\n",
       "      <th></th>\n",
       "      <th></th>\n",
       "      <th></th>\n",
       "    </tr>\n",
       "  </thead>\n",
       "  <tbody>\n",
       "    <tr>\n",
       "      <th>00012a2ce6f8dcda20d059ce98491703</th>\n",
       "      <td>299.0</td>\n",
       "      <td>1</td>\n",
       "      <td>114.74</td>\n",
       "    </tr>\n",
       "    <tr>\n",
       "      <th>000161a058600d5901f007fab4c27140</th>\n",
       "      <td>420.0</td>\n",
       "      <td>1</td>\n",
       "      <td>67.41</td>\n",
       "    </tr>\n",
       "    <tr>\n",
       "      <th>0001fd6190edaaf884bcaf3d49edf079</th>\n",
       "      <td>560.0</td>\n",
       "      <td>1</td>\n",
       "      <td>195.42</td>\n",
       "    </tr>\n",
       "    <tr>\n",
       "      <th>0002414f95344307404f0ace7a26f1d5</th>\n",
       "      <td>389.0</td>\n",
       "      <td>1</td>\n",
       "      <td>179.35</td>\n",
       "    </tr>\n",
       "    <tr>\n",
       "      <th>000379cdec625522490c315e70c7a9fb</th>\n",
       "      <td>161.0</td>\n",
       "      <td>1</td>\n",
       "      <td>107.01</td>\n",
       "    </tr>\n",
       "  </tbody>\n",
       "</table>\n",
       "</div>"
      ],
      "text/plain": [
       "                                  Recency  Frequency  Monetary\n",
       "customer_id                                                   \n",
       "00012a2ce6f8dcda20d059ce98491703    299.0          1    114.74\n",
       "000161a058600d5901f007fab4c27140    420.0          1     67.41\n",
       "0001fd6190edaaf884bcaf3d49edf079    560.0          1    195.42\n",
       "0002414f95344307404f0ace7a26f1d5    389.0          1    179.35\n",
       "000379cdec625522490c315e70c7a9fb    161.0          1    107.01"
      ]
     },
     "execution_count": 10,
     "metadata": {},
     "output_type": "execute_result"
    }
   ],
   "source": [
    "rfm.head()"
   ]
  },
  {
   "cell_type": "code",
   "execution_count": 11,
   "metadata": {},
   "outputs": [
    {
     "name": "stdout",
     "output_type": "stream",
     "text": [
      "                                  Recency  Frequency  Monetary  R  F  M  \\\n",
      "customer_id                                                               \n",
      "00012a2ce6f8dcda20d059ce98491703    299.0          1    114.74  2  1  3   \n",
      "000161a058600d5901f007fab4c27140    420.0          1     67.41  1  1  2   \n",
      "0001fd6190edaaf884bcaf3d49edf079    560.0          1    195.42  1  1  4   \n",
      "0002414f95344307404f0ace7a26f1d5    389.0          1    179.35  2  1  4   \n",
      "000379cdec625522490c315e70c7a9fb    161.0          1    107.01  4  1  3   \n",
      "\n",
      "                                  RFM_Score  \n",
      "customer_id                                  \n",
      "00012a2ce6f8dcda20d059ce98491703          6  \n",
      "000161a058600d5901f007fab4c27140          4  \n",
      "0001fd6190edaaf884bcaf3d49edf079          6  \n",
      "0002414f95344307404f0ace7a26f1d5          7  \n",
      "000379cdec625522490c315e70c7a9fb          8  \n"
     ]
    }
   ],
   "source": [
    "rfm_quantiles = rfm.quantile(q=[0.20, 0.40, 0.60, 0.80])\n",
    "rfm['R'] = pd.qcut(rfm['Recency'], q=5, labels=[5, 4, 3, 2, 1])\n",
    "rfm['F'] = pd.cut(rfm['Frequency'], bins=5, labels=[1, 2, 3, 4, 5])\n",
    "rfm['M'] = pd.qcut(rfm['Monetary'], q=5, labels=[1, 2, 3, 4, 5])\n",
    "\n",
    "rfm['RFM_Score'] = rfm[['R', 'F', 'M']].sum(axis=1)\n",
    "\n",
    "print(rfm.head())"
   ]
  },
  {
   "cell_type": "markdown",
   "metadata": {},
   "source": [
    "## Қорытынды\n",
    "1. Сонымен, мен бұл тапсырмада клиенттерді сегменттерге бөлу үшін RFM анализ жасадым.\n",
    "    Recency: Бұл параметр клиенттің соңғы сатып алуының қанша уақыт бұрын болғанын көрсетеді.\n",
    "    Frequency: Бұл параметр клиенттің қаншалықты жиі сатып алатынын көрсетеді\n",
    "    Monetary: Бұл параметр клиенттің сатып алу суммасын көрсетеді.\n",
    "2. RFM датафреймін құру үшін мен \n",
    "    Recency: Соңғы күннен соңғы сатып алу бол,ан күнді алып тастаймыз 'order_delivered_carrier_date': lambda x: (last_date - x.max()).days,\n",
    "    Frequency: Мен order_id санын алдым 'order_id': 'count', \n",
    "    Monetary: 'payment_value': 'sum' \n",
    "3. Әр параметрге Recency, Frequency и Monetary квантилдері есептелді. Және әр клиентке 1 ден 5 ке дейін баға қойылды:\n",
    "    Recency: ең жоғарғы баға жақында сатып алған клиентке қойылады  \n",
    "    Frequency және Monetary үшін ең жиі сатып алған және ең көп суммаға алған клиентке қойылады\n",
    "    Осы бағалырдың суммасы арқылы біз RFM_Score аламыз. RFM_Score жоғары болған сайын біз үшін бағалы клиент болып саналады. \n",
    "    \n",
    "## Выводы\n",
    "1.Итак, в этой задаче я провел анализ RFM, чтобы разделить клиентов на сегменты.\n",
    "    Recency: этот параметр показывает, как давно произошла последняя покупка клиента.\n",
    "    Frequency: этот параметр показывает, как часто клиент совершает покупки\n",
    "    Monetary: этот параметр показывает сумму покупки клиента.\n",
    "2. Чтобы создать RFM DataFrame,\n",
    "    Recency:  'order_delivered_carrier_date': lambda x: (last_date - x.max()).days,\n",
    "    Frequency: 'order_id': 'count', \n",
    "    Monetary: 'payment_value': 'sum' \n",
    "3. Для каждого параметра были рассчитаны квантили Recency, Frequency и Monetary. И каждому клиенту была выставлена оценка от 1 до 5:\n",
    "    Recency: максимальная цена выставляется клиенту, который недавно купил  \n",
    "    Для Frequency и Monetary выставляется клиенту, который купил чаще всего и потратил больше всего суммы денег\n",
    "    С суммой этих параметров мы получаем RFM_Score. Когда выше RFM_Score клиент считается более ценным для нас."
   ]
  },
  {
   "cell_type": "code",
   "execution_count": null,
   "metadata": {},
   "outputs": [],
   "source": []
  }
 ],
 "metadata": {
  "kernelspec": {
   "display_name": "Python 3",
   "language": "python",
   "name": "python3"
  },
  "language_info": {
   "codemirror_mode": {
    "name": "ipython",
    "version": 3
   },
   "file_extension": ".py",
   "mimetype": "text/x-python",
   "name": "python",
   "nbconvert_exporter": "python",
   "pygments_lexer": "ipython3",
   "version": "3.7.3"
  }
 },
 "nbformat": 4,
 "nbformat_minor": 1
}