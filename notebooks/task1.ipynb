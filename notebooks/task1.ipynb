{
 "cells": [
  {
   "cell_type": "markdown",
   "metadata": {
    "collapsed": true,
    "pycharm": {
     "name": "#%% md\n"
    }
   },
   "source": [
    "# Добро пожаловать на работу в Olist Store!\n",
    "\n",
    "**Olist Store** является крупнейшим универмагом на рынках Бразилии. Поздравляем, вы приняты на работу на должность **Data Scientist**. Поверьте, это лучшее, что могло случиться с вашей карьерой.\n",
    "\n",
    "Ваш руководитель – наш **Chief Product Officer**. У него большой опыт, и именно он будет давать вам задания. Надеемся, вы у него многому научитесь.\n",
    "\n",
    "## Ваша первая задача\n",
    "\n",
    "Ваша первая задача - выполнить **RFM-анализ**. Этот анализ делит пользователей на сегменты в зависимости от давности (Recency), частоты (Frequency) и общей суммы платежей (Monetary). Давайте подробнее разберем эти показатели:\n",
    "\n",
    "- **Recency** - разница между текущей датой и датой последнего платежа\n",
    "- **Frequency** - количество транзакций\n",
    "- **Monetary** - сумма покупок\n",
    "\n",
    "Эти три показателя нужно рассчитать отдельно для каждого покупателя. После этого поставить оценки от 1 до 3 или от 1 до 5. Чем шире диапазон, тем более узкие сегменты мы получим.\n",
    "\n",
    "Рекомендуем выставить баллы с использованием **квантилей**. Сортируйте данные по одному из критериев и делите на равные группы.\n",
    "\n",
    "Для выполнения этой задачи используйте публичный датасет, доступный по ссылке: [Brazilian E-commerce Public Dataset by Olist](https://www.kaggle.com/olistbr/brazilian-ecommerce). Используйте файлы `olist_orders_dataset.csv` и `olist_order_payments_dataset.csv`. Соединить их можно по `order_id`.\n",
    "\n",
    "### Подсказки по коду:\n",
    "\n",
    "```python\n",
    "# Вместо текущей даты будем использовать max+1\n",
    "last_date = order_payment['order_delivered_carrier_date'].max() + timedelta(days=1)\n",
    "\n",
    "# Разбить на квантили\n",
    "quantiles = df.quantile(q=[0.20, 0.40, 0.60, 0.80])\n",
    "\n",
    "Не забудьте написать выводы по результатам выполненной работы.\n",
    "\n",
    "Полезные материалы для изучения:\n",
    "Главное об RFM-анализе: как сегментировать клиентов, чтобы они покупали больше и чаще\n",
    "RFM-анализ\n"
   ]
  },
  {
   "cell_type": "code",
   "execution_count": null,
   "outputs": [],
   "source": [],
   "metadata": {
    "collapsed": false,
    "pycharm": {
     "name": "#%%\n"
    }
   }
  }
 ],
 "metadata": {
  "kernelspec": {
   "display_name": "Python 3",
   "language": "python",
   "name": "python3"
  },
  "language_info": {
   "codemirror_mode": {
    "name": "ipython",
    "version": 2
   },
   "file_extension": ".py",
   "mimetype": "text/x-python",
   "name": "python",
   "nbconvert_exporter": "python",
   "pygments_lexer": "ipython2",
   "version": "2.7.6"
  }
 },
 "nbformat": 4,
 "nbformat_minor": 0
}